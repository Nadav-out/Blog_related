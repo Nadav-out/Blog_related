{
 "cells": [
  {
   "cell_type": "code",
   "execution_count": null,
   "metadata": {},
   "outputs": [],
   "source": [
    "from sklearn.datasets import load_boston\n",
    "from sklearn.preprocessing import StandardScaler\n",
    "import numpy as np\n",
    "import matplotlib.pyplot as plt\n",
    "\n",
    "def lasso_sequence_ridge(X, y, lambda_, num_iterations):\n",
    "    N = X.shape[1]  # the number of features\n",
    "    w = np.ones(N)  # initialize the weights\n",
    "    w_history = []  # list to store the history of weights\n",
    "\n",
    "    for i in range(num_iterations):\n",
    "        D = np.diag(np.abs(w))  # diagonal matrix of absolute weights\n",
    "        # solve the normal equations\n",
    "        w = np.linalg.inv(X.T @ X + lambda_ * D) @ X.T @ y\n",
    "        w_history.append(w)\n",
    "\n",
    "    return np.array(w_history)\n",
    "\n",
    "# Load the dataset\n",
    "boston = load_boston()\n",
    "X = boston.data\n",
    "y = boston.target\n",
    "\n",
    "# It's good practice to standardize the features \n",
    "scaler = StandardScaler()\n",
    "X = scaler.fit_transform(X)\n",
    "\n",
    "# regularization parameter\n",
    "lambda_ = 0.1\n",
    "\n",
    "# Apply the function\n",
    "num_iterations = 10\n",
    "w_history = lasso_sequence_ridge(X, y, lambda_, num_iterations)\n",
    "\n",
    "# Plot the evolution of each weight over iterations\n",
    "for i in range(w_history.shape[1]):\n",
    "    plt.plot(w_history[:, i], label=f'w{i+1}')\n",
    "plt.xlabel('Iteration')\n",
    "plt.ylabel('Weight value')\n",
    "plt.legend()\n",
    "plt.show()\n"
   ]
  }
 ],
 "metadata": {
  "language_info": {
   "name": "python"
  },
  "orig_nbformat": 4
 },
 "nbformat": 4,
 "nbformat_minor": 2
}
